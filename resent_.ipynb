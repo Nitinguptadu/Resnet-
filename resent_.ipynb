{
  "nbformat": 4,
  "nbformat_minor": 0,
  "metadata": {
    "colab": {
      "name": "resent .ipynb",
      "provenance": []
    },
    "kernelspec": {
      "name": "python3",
      "display_name": "Python 3"
    },
    "accelerator": "GPU"
  },
  "cells": [
    {
      "cell_type": "code",
      "metadata": {
        "id": "13YOSdqwfA_8",
        "colab_type": "code",
        "colab": {}
      },
      "source": [
        "import torch \n",
        "import numpy as np \n",
        "import torchvision.transforms as transforms \n",
        "import torchvision \n",
        "import torch.nn.functional as F"
      ],
      "execution_count": 0,
      "outputs": []
    },
    {
      "cell_type": "code",
      "metadata": {
        "id": "7iwWSw_PfDgw",
        "colab_type": "code",
        "colab": {}
      },
      "source": [
        "class baseBlock(torch.nn.Module):\n",
        "    expansion = 1\n",
        "    def __init__(self,input_planes,planes,stride=1,dim_change=None):\n",
        "        super(baseBlock,self).__init__()\n",
        "        #declare convolutional layers with batch norms\n",
        "        self.conv1 = torch.nn.Conv2d(input_planes,planes,stride=stride,kernel_size=3,padding=1)\n",
        "        self.bn1   = torch.nn.BatchNorm2d(planes)\n",
        "        self.conv2 = torch.nn.Conv2d(planes,planes,stride=1,kernel_size=3,padding=1)\n",
        "        self.bn2   = torch.nn.BatchNorm2d(planes)\n",
        "        self.dim_change = dim_change\n",
        "    def forward(self,x):\n",
        "        #Save the residue\n",
        "        res = x\n",
        "        output = F.relu(self.bn1(self.conv1(x)))\n",
        "        output = self.bn2(self.conv2(output))\n",
        "\n",
        "        if self.dim_change is not None:\n",
        "            res = self.dim_change(res)\n",
        "        \n",
        "        output += res\n",
        "        output = F.relu(output)\n",
        "\n",
        "        return output"
      ],
      "execution_count": 0,
      "outputs": []
    },
    {
      "cell_type": "code",
      "metadata": {
        "id": "ozj6C7UpfOIp",
        "colab_type": "code",
        "colab": {}
      },
      "source": [
        "class bottleNeck(torch.nn.Module):\n",
        "    expansion = 4\n",
        "    def __init__(self,input_planes,planes,stride=1,dim_change=None):\n",
        "        super(bottleNeck,self).__init__()\n",
        "\n",
        "        self.conv1 = torch.nn.Conv2d(input_planes,planes,kernel_size=1,stride=1)\n",
        "        self.bn1 = torch.nn.BatchNorm2d(planes)\n",
        "        self.conv2 = torch.nn.Conv2d(planes,planes,kernel_size=3,stride=stride,padding=1)\n",
        "        self.bn2 = torch.nn.BatchNorm2d(planes)\n",
        "        self.conv3 = torch.nn.Conv2d(planes,planes*self.expansion,kernel_size=1)\n",
        "        self.bn3 = torch.nn.BatchNorm2d(planes*self.expansion)\n",
        "        self.dim_change = dim_change\n",
        "    \n",
        "    def forward(self,x):\n",
        "        res = x\n",
        "        \n",
        "        output = F.relu(self.bn1(self.conv1(x)))\n",
        "        output = F.relu(self.bn2(self.conv2(output)))\n",
        "        output = self.bn3(self.conv3(output))\n",
        "\n",
        "        if self.dim_change is not None:\n",
        "            res = self.dim_change(res)\n",
        "        \n",
        "        output += res\n",
        "        output = F.relu(output)\n",
        "        return output"
      ],
      "execution_count": 0,
      "outputs": []
    },
    {
      "cell_type": "code",
      "metadata": {
        "id": "_t5AJqRffOtM",
        "colab_type": "code",
        "colab": {}
      },
      "source": [
        "class ResNet(torch.nn.Module):\n",
        "    def __init__(self,block,num_layers,classes=10):\n",
        "        super(ResNet,self).__init__()\n",
        "        #according to research paper:\n",
        "        self.input_planes = 64\n",
        "        self.conv1 = torch.nn.Conv2d(3,64,kernel_size=3,stride=1,padding=1)\n",
        "        self.bn1   = torch.nn.BatchNorm2d(64)\n",
        "        self.layer1 = self._layer(block,64,num_layers[0],stride=1)\n",
        "        self.layer2 = self._layer(block,128,num_layers[1],stride=2)\n",
        "        self.layer3 = self._layer(block,256,num_layers[2],stride=2)\n",
        "        self.layer4 = self._layer(block,512,num_layers[3],stride=2)\n",
        "        self.averagePool = torch.nn.AvgPool2d(kernel_size=4,stride=1)\n",
        "        self.fc    =  torch.nn.Linear(512*block.expansion,classes)\n",
        "    \n",
        "    def _layer(self,block,planes,num_layers,stride=1):\n",
        "        dim_change = None\n",
        "        if stride!=1 or planes != self.input_planes*block.expansion:\n",
        "            dim_change = torch.nn.Sequential(torch.nn.Conv2d(self.input_planes,planes*block.expansion,kernel_size=1,stride=stride),\n",
        "                                             torch.nn.BatchNorm2d(planes*block.expansion))\n",
        "        netLayers =[]\n",
        "        netLayers.append(block(self.input_planes,planes,stride=stride,dim_change=dim_change))\n",
        "        self.input_planes = planes * block.expansion\n",
        "        for i in range(1,num_layers):\n",
        "            netLayers.append(block(self.input_planes,planes))\n",
        "            self.input_planes = planes * block.expansion\n",
        "        \n",
        "        return torch.nn.Sequential(*netLayers)\n",
        "\n",
        "    def forward(self,x):\n",
        "        x = F.relu(self.bn1(self.conv1(x)))\n",
        "\n",
        "        x = self.layer1(x)\n",
        "        x = self.layer2(x)\n",
        "        x = self.layer3(x)\n",
        "        x = self.layer4(x)\n",
        "\n",
        "        x = F.avg_pool2d(x,4)\n",
        "        x = x.view(x.size(0),-1)\n",
        "        x = self.fc(x)\n",
        "\n",
        "        return x"
      ],
      "execution_count": 0,
      "outputs": []
    },
    {
      "cell_type": "code",
      "metadata": {
        "id": "vlHL12uLjDZc",
        "colab_type": "code",
        "colab": {}
      },
      "source": [
        "\n",
        "        #To convert data from PIL to tensor\n",
        "transform = transforms.Compose([transforms.ToTensor(),transforms.Normalize((0.5, 0.5, 0.5), (0.5, 0.5, 0.5))])\n",
        "    \n",
        "    "
      ],
      "execution_count": 0,
      "outputs": []
    },
    {
      "cell_type": "code",
      "metadata": {
        "id": "xgGkM1CLlp35",
        "colab_type": "code",
        "colab": {
          "base_uri": "https://localhost:8080/",
          "height": 33
        },
        "outputId": "b36448c3-d6ca-4fe4-f501-426291025b59"
      },
      "source": [
        " #Load train and test set:\n",
        "train = torchvision.datasets.CIFAR10(root='./data',train=True,download=True,transform=transform)\n",
        "trainset = torch.utils.data.DataLoader(train,batch_size=128,shuffle=True)\n",
        "\n",
        "   "
      ],
      "execution_count": 14,
      "outputs": [
        {
          "output_type": "stream",
          "text": [
            "Files already downloaded and verified\n"
          ],
          "name": "stdout"
        }
      ]
    },
    {
      "cell_type": "code",
      "metadata": {
        "id": "FT3_Dt-3ltEM",
        "colab_type": "code",
        "colab": {
          "base_uri": "https://localhost:8080/",
          "height": 33
        },
        "outputId": "2b09902c-16b0-4d29-85bb-2e50d3a0f938"
      },
      "source": [
        "test = torchvision.datasets.CIFAR10(root='./data',train=False,download=True,transform=transform)\n",
        "testset = torch.utils.data.DataLoader(test,batch_size=128,shuffle=False)\n",
        "    "
      ],
      "execution_count": 15,
      "outputs": [
        {
          "output_type": "stream",
          "text": [
            "Files already downloaded and verified\n"
          ],
          "name": "stdout"
        }
      ]
    },
    {
      "cell_type": "code",
      "metadata": {
        "id": "iPtXoyKylW3T",
        "colab_type": "code",
        "colab": {
          "base_uri": "https://localhost:8080/",
          "height": 33
        },
        "outputId": "58802976-da1b-4e5b-b8ff-c62821be6e05"
      },
      "source": [
        "device = torch.device(\"cuda:0\" if torch.cuda.is_available() else \"cpu\")\n",
        "print(device)\n"
      ],
      "execution_count": 16,
      "outputs": [
        {
          "output_type": "stream",
          "text": [
            "cuda:0\n"
          ],
          "name": "stdout"
        }
      ]
    },
    {
      "cell_type": "code",
      "metadata": {
        "id": "BCDM5ey6lY9o",
        "colab_type": "code",
        "colab": {}
      },
      "source": [
        "\n",
        "    #ResNet-18 \n",
        "    #net = ResNet(baseBlock,[2,2,2,2],10)\n",
        "\n",
        "    #ResNet-50\n",
        "    net =  ResNet(bottleNeck,[3,4,6,3])\n",
        "    net.to(device)\n",
        "    costFunc = torch.nn.CrossEntropyLoss()\n",
        "    optimizer =  torch.optim.SGD(net.parameters(),lr=0.02,momentum=0.9)\n"
      ],
      "execution_count": 0,
      "outputs": []
    },
    {
      "cell_type": "code",
      "metadata": {
        "id": "pVyJ_e6fjGdB",
        "colab_type": "code",
        "colab": {
          "base_uri": "https://localhost:8080/",
          "height": 82
        },
        "outputId": "d65f3361-e5a0-43f2-af3b-045407dc2d50"
      },
      "source": [
        "for epoch in range(1):\n",
        "        closs = 0\n",
        "        for i,batch in enumerate(trainset,0):\n",
        "            data,output = batch\n",
        "            data,output = data.to(device),output.to(device)\n",
        "            prediction = net(data)\n",
        "            loss = costFunc(prediction,output)\n",
        "            closs = loss.item()\n",
        "\n",
        "            optimizer.zero_grad()\n",
        "            loss.backward()\n",
        "            optimizer.step()\n",
        "            #print every 1000th time\n",
        "            if i%100 == 0:\n",
        "                print('[%d  %d] loss: %.4f'% (epoch+1,i+1,closs/1000))\n",
        "                closs = 0\n",
        "        correctHits=0\n",
        "        total=0"
      ],
      "execution_count": 18,
      "outputs": [
        {
          "output_type": "stream",
          "text": [
            "[1  1] loss: 0.0023\n",
            "[1  101] loss: 0.0018\n",
            "[1  201] loss: 0.0014\n",
            "[1  301] loss: 0.0014\n"
          ],
          "name": "stdout"
        }
      ]
    },
    {
      "cell_type": "code",
      "metadata": {
        "id": "C6Oh2PihjJ-z",
        "colab_type": "code",
        "colab": {
          "base_uri": "https://localhost:8080/",
          "height": 1000
        },
        "outputId": "7d655f6a-4e6f-4aa1-a39f-528f00ee176c"
      },
      "source": [
        "for batches in testset:\n",
        "            data,output = batches\n",
        "            data,output = data.to(device),output.to(device)\n",
        "            prediction = net(data)\n",
        "            _,prediction = torch.max(prediction.data,1)  #returns max as well as its index\n",
        "            total += output.size(0)\n",
        "            correctHits += (prediction==output).sum().item()\n",
        "            print('Accuracy on epoch ',epoch+1,'= ',str((correctHits/total)*100))\n",
        "\n",
        "            correctHits=0\n",
        "            total=0"
      ],
      "execution_count": 19,
      "outputs": [
        {
          "output_type": "stream",
          "text": [
            "Accuracy on epoch  1 =  57.03125\n",
            "Accuracy on epoch  1 =  49.21875\n",
            "Accuracy on epoch  1 =  54.6875\n",
            "Accuracy on epoch  1 =  53.125\n",
            "Accuracy on epoch  1 =  53.125\n",
            "Accuracy on epoch  1 =  50.78125\n",
            "Accuracy on epoch  1 =  57.8125\n",
            "Accuracy on epoch  1 =  61.71875\n",
            "Accuracy on epoch  1 =  58.59375\n",
            "Accuracy on epoch  1 =  54.6875\n",
            "Accuracy on epoch  1 =  55.46875\n",
            "Accuracy on epoch  1 =  64.84375\n",
            "Accuracy on epoch  1 =  49.21875\n",
            "Accuracy on epoch  1 =  58.59375\n",
            "Accuracy on epoch  1 =  57.8125\n",
            "Accuracy on epoch  1 =  49.21875\n",
            "Accuracy on epoch  1 =  56.25\n",
            "Accuracy on epoch  1 =  52.34375\n",
            "Accuracy on epoch  1 =  53.125\n",
            "Accuracy on epoch  1 =  53.125\n",
            "Accuracy on epoch  1 =  57.03125\n",
            "Accuracy on epoch  1 =  47.65625\n",
            "Accuracy on epoch  1 =  60.15625\n",
            "Accuracy on epoch  1 =  45.3125\n",
            "Accuracy on epoch  1 =  53.125\n",
            "Accuracy on epoch  1 =  56.25\n",
            "Accuracy on epoch  1 =  58.59375\n",
            "Accuracy on epoch  1 =  57.03125\n",
            "Accuracy on epoch  1 =  57.03125\n",
            "Accuracy on epoch  1 =  60.9375\n",
            "Accuracy on epoch  1 =  56.25\n",
            "Accuracy on epoch  1 =  57.03125\n",
            "Accuracy on epoch  1 =  53.125\n",
            "Accuracy on epoch  1 =  53.90625\n",
            "Accuracy on epoch  1 =  52.34375\n",
            "Accuracy on epoch  1 =  50.78125\n",
            "Accuracy on epoch  1 =  64.84375\n",
            "Accuracy on epoch  1 =  52.34375\n",
            "Accuracy on epoch  1 =  57.8125\n",
            "Accuracy on epoch  1 =  46.09375\n",
            "Accuracy on epoch  1 =  57.03125\n",
            "Accuracy on epoch  1 =  50.0\n",
            "Accuracy on epoch  1 =  48.4375\n",
            "Accuracy on epoch  1 =  50.0\n",
            "Accuracy on epoch  1 =  61.71875\n",
            "Accuracy on epoch  1 =  50.0\n",
            "Accuracy on epoch  1 =  53.125\n",
            "Accuracy on epoch  1 =  50.0\n",
            "Accuracy on epoch  1 =  53.90625\n",
            "Accuracy on epoch  1 =  57.8125\n",
            "Accuracy on epoch  1 =  50.78125\n",
            "Accuracy on epoch  1 =  50.0\n",
            "Accuracy on epoch  1 =  53.90625\n",
            "Accuracy on epoch  1 =  49.21875\n",
            "Accuracy on epoch  1 =  50.0\n",
            "Accuracy on epoch  1 =  56.25\n",
            "Accuracy on epoch  1 =  45.3125\n",
            "Accuracy on epoch  1 =  50.78125\n",
            "Accuracy on epoch  1 =  56.25\n",
            "Accuracy on epoch  1 =  50.78125\n",
            "Accuracy on epoch  1 =  51.5625\n",
            "Accuracy on epoch  1 =  51.5625\n",
            "Accuracy on epoch  1 =  57.03125\n",
            "Accuracy on epoch  1 =  50.0\n",
            "Accuracy on epoch  1 =  46.09375\n",
            "Accuracy on epoch  1 =  53.90625\n",
            "Accuracy on epoch  1 =  53.90625\n",
            "Accuracy on epoch  1 =  49.21875\n",
            "Accuracy on epoch  1 =  51.5625\n",
            "Accuracy on epoch  1 =  54.6875\n",
            "Accuracy on epoch  1 =  53.90625\n",
            "Accuracy on epoch  1 =  58.59375\n",
            "Accuracy on epoch  1 =  54.6875\n",
            "Accuracy on epoch  1 =  58.59375\n",
            "Accuracy on epoch  1 =  50.78125\n",
            "Accuracy on epoch  1 =  54.6875\n",
            "Accuracy on epoch  1 =  48.4375\n",
            "Accuracy on epoch  1 =  47.65625\n",
            "Accuracy on epoch  1 =  43.75\n"
          ],
          "name": "stdout"
        }
      ]
    },
    {
      "cell_type": "code",
      "metadata": {
        "id": "AP4tZGGdjPdG",
        "colab_type": "code",
        "colab": {
          "base_uri": "https://localhost:8080/",
          "height": 1000
        },
        "outputId": "37f1d635-70c4-45e0-ecad-ee9c4f4b92a5"
      },
      "source": [
        "for batches in testset:\n",
        "        data,output = batches\n",
        "        data,output = data.to(device),output.to(device)\n",
        "        prediction = net(data)\n",
        "        _,prediction = torch.max(prediction.data,1)  #returns max as well as its index\n",
        "        total += output.size(0)\n",
        "        correctHits += (prediction==output).sum().item()\n",
        "        print('Accuracy = '+str((correctHits/total)*100))\n",
        "\n"
      ],
      "execution_count": 20,
      "outputs": [
        {
          "output_type": "stream",
          "text": [
            "Accuracy = 57.03125\n",
            "Accuracy = 53.125\n",
            "Accuracy = 53.645833333333336\n",
            "Accuracy = 53.515625\n",
            "Accuracy = 53.43750000000001\n",
            "Accuracy = 52.994791666666664\n",
            "Accuracy = 53.68303571428571\n",
            "Accuracy = 54.6875\n",
            "Accuracy = 55.12152777777778\n",
            "Accuracy = 55.078125\n",
            "Accuracy = 55.11363636363637\n",
            "Accuracy = 55.924479166666664\n",
            "Accuracy = 55.40865384615385\n",
            "Accuracy = 55.63616071428571\n",
            "Accuracy = 55.78125000000001\n",
            "Accuracy = 55.37109375\n",
            "Accuracy = 55.42279411764706\n",
            "Accuracy = 55.251736111111114\n",
            "Accuracy = 55.13980263157895\n",
            "Accuracy = 55.0390625\n",
            "Accuracy = 55.13392857142857\n",
            "Accuracy = 54.79403409090909\n",
            "Accuracy = 55.027173913043484\n",
            "Accuracy = 54.622395833333336\n",
            "Accuracy = 54.5625\n",
            "Accuracy = 54.62740384615385\n",
            "Accuracy = 54.77430555555556\n",
            "Accuracy = 54.85491071428571\n",
            "Accuracy = 54.92995689655172\n",
            "Accuracy = 55.13020833333333\n",
            "Accuracy = 55.16633064516129\n",
            "Accuracy = 55.224609375\n",
            "Accuracy = 55.16098484848485\n",
            "Accuracy = 55.12408088235294\n",
            "Accuracy = 55.044642857142854\n",
            "Accuracy = 54.92621527777778\n",
            "Accuracy = 55.19425675675676\n",
            "Accuracy = 55.11924342105263\n",
            "Accuracy = 55.18830128205128\n",
            "Accuracy = 54.96093749999999\n",
            "Accuracy = 55.01143292682927\n",
            "Accuracy = 54.892113095238095\n",
            "Accuracy = 54.74200581395349\n",
            "Accuracy = 54.63423295454546\n",
            "Accuracy = 54.79166666666667\n",
            "Accuracy = 54.6875\n",
            "Accuracy = 54.65425531914894\n",
            "Accuracy = 54.557291666666664\n",
            "Accuracy = 54.54400510204081\n",
            "Accuracy = 54.60937500000001\n",
            "Accuracy = 54.53431372549019\n",
            "Accuracy = 54.44711538461539\n",
            "Accuracy = 54.436910377358494\n",
            "Accuracy = 54.34027777777778\n",
            "Accuracy = 54.26136363636363\n",
            "Accuracy = 54.296875\n",
            "Accuracy = 54.13925438596491\n",
            "Accuracy = 54.08135775862068\n",
            "Accuracy = 54.11811440677966\n",
            "Accuracy = 54.0625\n",
            "Accuracy = 54.021516393442624\n",
            "Accuracy = 53.98185483870967\n",
            "Accuracy = 54.030257936507944\n",
            "Accuracy = 53.96728515625\n",
            "Accuracy = 53.84615384615385\n",
            "Accuracy = 53.84706439393939\n",
            "Accuracy = 53.84794776119403\n",
            "Accuracy = 53.77987132352941\n",
            "Accuracy = 53.747735507246375\n",
            "Accuracy = 53.761160714285715\n",
            "Accuracy = 53.76320422535211\n",
            "Accuracy = 53.830295138888886\n",
            "Accuracy = 53.84203767123288\n",
            "Accuracy = 53.90625\n",
            "Accuracy = 53.864583333333336\n",
            "Accuracy = 53.875411184210535\n",
            "Accuracy = 53.804788961038966\n",
            "Accuracy = 53.72596153846154\n",
            "Accuracy = 53.71\n"
          ],
          "name": "stdout"
        }
      ]
    },
    {
      "cell_type": "code",
      "metadata": {
        "id": "M8HB9-2BjRf5",
        "colab_type": "code",
        "colab": {}
      },
      "source": [
        ""
      ],
      "execution_count": 0,
      "outputs": []
    }
  ]
}